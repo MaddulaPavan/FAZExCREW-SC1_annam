{
  "nbformat": 4,
  "nbformat_minor": 0,
  "metadata": {
    "colab": {
      "provenance": [],
      "gpuType": "T4"
    },
    "kernelspec": {
      "name": "python3",
      "display_name": "Python 3"
    },
    "language_info": {
      "name": "python"
    },
    "accelerator": "GPU"
  },
  "cells": [
    {
      "cell_type": "code",
      "source": [
        "from google.colab import drive\n",
        "drive.mount('/content/drive')"
      ],
      "metadata": {
        "colab": {
          "base_uri": "https://localhost:8080/"
        },
        "id": "cSmwmUWxmaGp",
        "outputId": "27eb9046-5383-42c0-e368-e0776fcd3955"
      },
      "execution_count": null,
      "outputs": [
        {
          "output_type": "stream",
          "name": "stdout",
          "text": [
            "Mounted at /content/drive\n"
          ]
        }
      ]
    },
    {
      "cell_type": "code",
      "execution_count": null,
      "metadata": {
        "colab": {
          "base_uri": "https://localhost:8080/",
          "height": 1000
        },
        "id": "-Y5n2JLKeV68",
        "outputId": "f73c8ef1-72f9-48f5-8166-41de39ed1404"
      },
      "outputs": [
        {
          "output_type": "stream",
          "name": "stdout",
          "text": [
            "Soil Classification Challenge - Solution\n",
            "==================================================\n",
            "Using device: cuda\n",
            "Loading and preparing data...\n",
            "Training samples: 1222\n",
            "Test samples: 341\n",
            "\n",
            "Class distribution:\n",
            "soil_type\n",
            "Alluvial soil    528\n",
            "Red soil         264\n",
            "Black Soil       231\n",
            "Clay soil        199\n",
            "Name: count, dtype: int64\n",
            "\n",
            "Train set size: 977\n",
            "Validation set size: 245\n"
          ]
        },
        {
          "output_type": "stream",
          "name": "stderr",
          "text": [
            "Downloading: \"https://download.pytorch.org/models/efficientnet_b0_rwightman-7f5810bc.pth\" to /root/.cache/torch/hub/checkpoints/efficientnet_b0_rwightman-7f5810bc.pth\n",
            "100%|██████████| 20.5M/20.5M [00:00<00:00, 113MB/s] \n"
          ]
        },
        {
          "output_type": "stream",
          "name": "stdout",
          "text": [
            "Starting model training...\n"
          ]
        },
        {
          "output_type": "stream",
          "name": "stderr",
          "text": [
            "Epoch 1/90: 100%|██████████| 31/31 [00:33<00:00,  1.08s/it, Loss=0.3921, Acc=75.33%]\n"
          ]
        },
        {
          "output_type": "stream",
          "name": "stdout",
          "text": [
            "Epoch 1/90:\n",
            "  Train Loss: 0.6049\n",
            "  Val Loss: 0.3045\n",
            "  Min F1 Score: 0.8434\n",
            "  Class F1 Scores: [0.87179487 0.89108911 0.84337349 0.84684685]\n",
            "--------------------------------------------------\n"
          ]
        },
        {
          "output_type": "stream",
          "name": "stderr",
          "text": [
            "Epoch 2/90: 100%|██████████| 31/31 [00:17<00:00,  1.81it/s, Loss=0.2761, Acc=88.02%]\n"
          ]
        },
        {
          "output_type": "stream",
          "name": "stdout",
          "text": [
            "Epoch 2/90:\n",
            "  Train Loss: 0.2918\n",
            "  Val Loss: 0.2028\n",
            "  Min F1 Score: 0.8571\n",
            "  Class F1 Scores: [0.89005236 0.93877551 0.85714286 0.96363636]\n",
            "--------------------------------------------------\n"
          ]
        },
        {
          "output_type": "stream",
          "name": "stderr",
          "text": [
            "Epoch 3/90: 100%|██████████| 31/31 [00:14<00:00,  2.20it/s, Loss=0.1761, Acc=90.28%]\n"
          ]
        },
        {
          "output_type": "stream",
          "name": "stdout",
          "text": [
            "Epoch 3/90:\n",
            "  Train Loss: 0.2292\n",
            "  Val Loss: 0.3291\n",
            "  Min F1 Score: 0.8041\n",
            "  Class F1 Scores: [0.85263158 0.91489362 0.80412371 0.89908257]\n",
            "--------------------------------------------------\n"
          ]
        },
        {
          "output_type": "stream",
          "name": "stderr",
          "text": [
            "Epoch 4/90: 100%|██████████| 31/31 [00:13<00:00,  2.36it/s, Loss=0.2591, Acc=91.50%]\n"
          ]
        },
        {
          "output_type": "stream",
          "name": "stdout",
          "text": [
            "Epoch 4/90:\n",
            "  Train Loss: 0.1989\n",
            "  Val Loss: 0.2085\n",
            "  Min F1 Score: 0.8478\n",
            "  Class F1 Scores: [0.89795918 0.94505495 0.84782609 0.95495495]\n",
            "--------------------------------------------------\n"
          ]
        },
        {
          "output_type": "stream",
          "name": "stderr",
          "text": [
            "Epoch 5/90: 100%|██████████| 31/31 [00:17<00:00,  1.75it/s, Loss=0.7831, Acc=93.04%]\n"
          ]
        },
        {
          "output_type": "stream",
          "name": "stdout",
          "text": [
            "Epoch 5/90:\n",
            "  Train Loss: 0.2004\n",
            "  Val Loss: 0.2169\n",
            "  Min F1 Score: 0.8796\n",
            "  Class F1 Scores: [0.87958115 0.94736842 0.90697674 0.89830508]\n",
            "--------------------------------------------------\n"
          ]
        },
        {
          "output_type": "stream",
          "name": "stderr",
          "text": [
            "Epoch 6/90: 100%|██████████| 31/31 [00:13<00:00,  2.32it/s, Loss=0.1802, Acc=93.24%]\n"
          ]
        },
        {
          "output_type": "stream",
          "name": "stdout",
          "text": [
            "Epoch 6/90:\n",
            "  Train Loss: 0.1727\n",
            "  Val Loss: 0.1639\n",
            "  Min F1 Score: 0.8736\n",
            "  Class F1 Scores: [0.91836735 0.92473118 0.87356322 0.92982456]\n",
            "--------------------------------------------------\n"
          ]
        },
        {
          "output_type": "stream",
          "name": "stderr",
          "text": [
            "Epoch 7/90: 100%|██████████| 31/31 [00:13<00:00,  2.24it/s, Loss=0.2515, Acc=93.14%]\n"
          ]
        },
        {
          "output_type": "stream",
          "name": "stdout",
          "text": [
            "Epoch 7/90:\n",
            "  Train Loss: 0.1611\n",
            "  Val Loss: 0.1582\n",
            "  Min F1 Score: 0.9369\n",
            "  Class F1 Scores: [0.94059406 0.9375     0.9382716  0.93693694]\n",
            "--------------------------------------------------\n"
          ]
        },
        {
          "output_type": "stream",
          "name": "stderr",
          "text": [
            "Epoch 8/90: 100%|██████████| 31/31 [00:13<00:00,  2.30it/s, Loss=0.4584, Acc=95.29%]\n"
          ]
        },
        {
          "output_type": "stream",
          "name": "stdout",
          "text": [
            "Epoch 8/90:\n",
            "  Train Loss: 0.1301\n",
            "  Val Loss: 0.2008\n",
            "  Min F1 Score: 0.8444\n",
            "  Class F1 Scores: [0.9025641  0.94736842 0.84444444 0.94545455]\n",
            "--------------------------------------------------\n"
          ]
        },
        {
          "output_type": "stream",
          "name": "stderr",
          "text": [
            "Epoch 9/90: 100%|██████████| 31/31 [00:13<00:00,  2.34it/s, Loss=0.7587, Acc=93.04%]\n"
          ]
        },
        {
          "output_type": "stream",
          "name": "stdout",
          "text": [
            "Epoch 9/90:\n",
            "  Train Loss: 0.1782\n",
            "  Val Loss: 0.3848\n",
            "  Min F1 Score: 0.8696\n",
            "  Class F1 Scores: [0.88421053 0.9375     0.86956522 0.875     ]\n",
            "--------------------------------------------------\n"
          ]
        },
        {
          "output_type": "stream",
          "name": "stderr",
          "text": [
            "Epoch 10/90: 100%|██████████| 31/31 [00:13<00:00,  2.29it/s, Loss=0.1648, Acc=93.14%]\n"
          ]
        },
        {
          "output_type": "stream",
          "name": "stdout",
          "text": [
            "Epoch 10/90:\n",
            "  Train Loss: 0.1839\n",
            "  Val Loss: 0.2830\n",
            "  Min F1 Score: 0.8654\n",
            "  Class F1 Scores: [0.91370558 0.90721649 0.86956522 0.86538462]\n",
            "--------------------------------------------------\n"
          ]
        },
        {
          "output_type": "stream",
          "name": "stderr",
          "text": [
            "Epoch 11/90: 100%|██████████| 31/31 [00:13<00:00,  2.29it/s, Loss=0.2973, Acc=94.17%]\n"
          ]
        },
        {
          "output_type": "stream",
          "name": "stdout",
          "text": [
            "Epoch 11/90:\n",
            "  Train Loss: 0.1649\n",
            "  Val Loss: 0.2413\n",
            "  Min F1 Score: 0.8444\n",
            "  Class F1 Scores: [0.91919192 0.90909091 0.84444444 0.95145631]\n",
            "--------------------------------------------------\n"
          ]
        },
        {
          "output_type": "stream",
          "name": "stderr",
          "text": [
            "Epoch 12/90: 100%|██████████| 31/31 [00:12<00:00,  2.39it/s, Loss=0.5151, Acc=94.37%]\n"
          ]
        },
        {
          "output_type": "stream",
          "name": "stdout",
          "text": [
            "Epoch 12/90:\n",
            "  Train Loss: 0.1565\n",
            "  Val Loss: 0.2209\n",
            "  Min F1 Score: 0.8909\n",
            "  Class F1 Scores: [0.90721649 0.92783505 0.8988764  0.89090909]\n",
            "--------------------------------------------------\n"
          ]
        },
        {
          "output_type": "stream",
          "name": "stderr",
          "text": [
            "Epoch 13/90: 100%|██████████| 31/31 [00:13<00:00,  2.29it/s, Loss=0.0493, Acc=94.78%]\n"
          ]
        },
        {
          "output_type": "stream",
          "name": "stdout",
          "text": [
            "Epoch 13/90:\n",
            "  Train Loss: 0.1163\n",
            "  Val Loss: 0.1984\n",
            "  Min F1 Score: 0.9176\n",
            "  Class F1 Scores: [0.91836735 0.92929293 0.91764706 0.92727273]\n",
            "--------------------------------------------------\n"
          ]
        },
        {
          "output_type": "stream",
          "name": "stderr",
          "text": [
            "Epoch 14/90: 100%|██████████| 31/31 [00:13<00:00,  2.34it/s, Loss=0.1768, Acc=95.39%]\n"
          ]
        },
        {
          "output_type": "stream",
          "name": "stdout",
          "text": [
            "Epoch 14/90:\n",
            "  Train Loss: 0.1130\n",
            "  Val Loss: 0.2454\n",
            "  Min F1 Score: 0.9347\n",
            "  Class F1 Scores: [0.93467337 0.94845361 0.94117647 0.93577982]\n",
            "--------------------------------------------------\n"
          ]
        },
        {
          "output_type": "stream",
          "name": "stderr",
          "text": [
            "Epoch 15/90: 100%|██████████| 31/31 [00:13<00:00,  2.36it/s, Loss=0.4030, Acc=95.19%]\n"
          ]
        },
        {
          "output_type": "stream",
          "name": "stdout",
          "text": [
            "Epoch 15/90:\n",
            "  Train Loss: 0.1246\n",
            "  Val Loss: 0.2023\n",
            "  Min F1 Score: 0.8718\n",
            "  Class F1 Scores: [0.88421053 0.96774194 0.88888889 0.87179487]\n",
            "--------------------------------------------------\n"
          ]
        },
        {
          "output_type": "stream",
          "name": "stderr",
          "text": [
            "Epoch 16/90: 100%|██████████| 31/31 [00:13<00:00,  2.29it/s, Loss=0.3766, Acc=95.70%]\n"
          ]
        },
        {
          "output_type": "stream",
          "name": "stdout",
          "text": [
            "Epoch 16/90:\n",
            "  Train Loss: 0.0999\n",
            "  Val Loss: 0.2715\n",
            "  Min F1 Score: 0.8333\n",
            "  Class F1 Scores: [0.9015544  0.94845361 0.83333333 0.98076923]\n",
            "--------------------------------------------------\n"
          ]
        },
        {
          "output_type": "stream",
          "name": "stderr",
          "text": [
            "Epoch 17/90: 100%|██████████| 31/31 [00:13<00:00,  2.35it/s, Loss=0.1417, Acc=95.50%]\n"
          ]
        },
        {
          "output_type": "stream",
          "name": "stdout",
          "text": [
            "Epoch 17/90:\n",
            "  Train Loss: 0.1059\n",
            "  Val Loss: 0.1335\n",
            "  Min F1 Score: 0.9091\n",
            "  Class F1 Scores: [0.95049505 0.96774194 0.90909091 0.99065421]\n",
            "--------------------------------------------------\n"
          ]
        },
        {
          "output_type": "stream",
          "name": "stderr",
          "text": [
            "Epoch 18/90: 100%|██████████| 31/31 [00:13<00:00,  2.37it/s, Loss=0.0702, Acc=95.29%]\n"
          ]
        },
        {
          "output_type": "stream",
          "name": "stdout",
          "text": [
            "Epoch 18/90:\n",
            "  Train Loss: 0.1063\n",
            "  Val Loss: 0.1714\n",
            "  Min F1 Score: 0.9200\n",
            "  Class F1 Scores: [0.92       0.96774194 0.95121951 0.92173913]\n",
            "--------------------------------------------------\n"
          ]
        },
        {
          "output_type": "stream",
          "name": "stderr",
          "text": [
            "Epoch 19/90: 100%|██████████| 31/31 [00:13<00:00,  2.35it/s, Loss=0.0022, Acc=95.70%]\n"
          ]
        },
        {
          "output_type": "stream",
          "name": "stdout",
          "text": [
            "Epoch 19/90:\n",
            "  Train Loss: 0.1101\n",
            "  Val Loss: 0.1894\n",
            "  Min F1 Score: 0.8696\n",
            "  Class F1 Scores: [0.93467337 0.95744681 0.86956522 0.97142857]\n",
            "--------------------------------------------------\n"
          ]
        },
        {
          "output_type": "stream",
          "name": "stderr",
          "text": [
            "Epoch 20/90: 100%|██████████| 31/31 [00:13<00:00,  2.30it/s, Loss=0.0412, Acc=97.13%]\n"
          ]
        },
        {
          "output_type": "stream",
          "name": "stdout",
          "text": [
            "Epoch 20/90:\n",
            "  Train Loss: 0.0885\n",
            "  Val Loss: 0.1891\n",
            "  Min F1 Score: 0.9293\n",
            "  Class F1 Scores: [0.95145631 0.92929293 0.95121951 0.95145631]\n",
            "--------------------------------------------------\n"
          ]
        },
        {
          "output_type": "stream",
          "name": "stderr",
          "text": [
            "Epoch 21/90: 100%|██████████| 31/31 [00:13<00:00,  2.36it/s, Loss=0.3498, Acc=96.21%]\n"
          ]
        },
        {
          "output_type": "stream",
          "name": "stdout",
          "text": [
            "Epoch 21/90:\n",
            "  Train Loss: 0.1017\n",
            "  Val Loss: 0.1247\n",
            "  Min F1 Score: 0.9458\n",
            "  Class F1 Scores: [0.94581281 0.95744681 0.95238095 0.97247706]\n",
            "--------------------------------------------------\n"
          ]
        },
        {
          "output_type": "stream",
          "name": "stderr",
          "text": [
            "Epoch 22/90: 100%|██████████| 31/31 [00:13<00:00,  2.26it/s, Loss=0.0238, Acc=96.01%]\n"
          ]
        },
        {
          "output_type": "stream",
          "name": "stdout",
          "text": [
            "Epoch 22/90:\n",
            "  Train Loss: 0.0924\n",
            "  Val Loss: 0.1897\n",
            "  Min F1 Score: 0.9200\n",
            "  Class F1 Scores: [0.97087379 0.92       0.98734177 0.95238095]\n",
            "--------------------------------------------------\n"
          ]
        },
        {
          "output_type": "stream",
          "name": "stderr",
          "text": [
            "Epoch 23/90: 100%|██████████| 31/31 [00:13<00:00,  2.34it/s, Loss=0.0147, Acc=96.52%]\n"
          ]
        },
        {
          "output_type": "stream",
          "name": "stdout",
          "text": [
            "Epoch 23/90:\n",
            "  Train Loss: 0.0996\n",
            "  Val Loss: 0.2291\n",
            "  Min F1 Score: 0.8696\n",
            "  Class F1 Scores: [0.9015544  0.91666667 0.86956522 0.95412844]\n",
            "--------------------------------------------------\n"
          ]
        },
        {
          "output_type": "stream",
          "name": "stderr",
          "text": [
            "Epoch 24/90: 100%|██████████| 31/31 [00:13<00:00,  2.35it/s, Loss=0.0110, Acc=95.29%]\n"
          ]
        },
        {
          "output_type": "stream",
          "name": "stdout",
          "text": [
            "Epoch 24/90:\n",
            "  Train Loss: 0.1046\n",
            "  Val Loss: 0.2142\n",
            "  Min F1 Score: 0.9020\n",
            "  Class F1 Scores: [0.95566502 0.90196078 0.96296296 0.96153846]\n",
            "--------------------------------------------------\n"
          ]
        },
        {
          "output_type": "stream",
          "name": "stderr",
          "text": [
            "Epoch 25/90: 100%|██████████| 31/31 [00:12<00:00,  2.42it/s, Loss=0.0089, Acc=96.42%]\n"
          ]
        },
        {
          "output_type": "stream",
          "name": "stdout",
          "text": [
            "Epoch 25/90:\n",
            "  Train Loss: 0.0680\n",
            "  Val Loss: 0.1967\n",
            "  Min F1 Score: 0.9176\n",
            "  Class F1 Scores: [0.91836735 0.94845361 0.91764706 0.92857143]\n",
            "--------------------------------------------------\n"
          ]
        },
        {
          "output_type": "stream",
          "name": "stderr",
          "text": [
            "Epoch 26/90: 100%|██████████| 31/31 [00:13<00:00,  2.35it/s, Loss=0.0456, Acc=96.01%]\n"
          ]
        },
        {
          "output_type": "stream",
          "name": "stdout",
          "text": [
            "Epoch 26/90:\n",
            "  Train Loss: 0.0881\n",
            "  Val Loss: 0.1423\n",
            "  Min F1 Score: 0.9524\n",
            "  Class F1 Scores: [0.96078431 0.95833333 0.95238095 0.98113208]\n",
            "--------------------------------------------------\n"
          ]
        },
        {
          "output_type": "stream",
          "name": "stderr",
          "text": [
            "Epoch 27/90: 100%|██████████| 31/31 [00:13<00:00,  2.27it/s, Loss=0.0437, Acc=96.72%]\n"
          ]
        },
        {
          "output_type": "stream",
          "name": "stdout",
          "text": [
            "Epoch 27/90:\n",
            "  Train Loss: 0.0711\n",
            "  Val Loss: 0.1233\n",
            "  Min F1 Score: 0.9583\n",
            "  Class F1 Scores: [0.97115385 0.95833333 0.97560976 0.96153846]\n",
            "--------------------------------------------------\n"
          ]
        },
        {
          "output_type": "stream",
          "name": "stderr",
          "text": [
            "Epoch 28/90: 100%|██████████| 31/31 [00:13<00:00,  2.27it/s, Loss=0.1647, Acc=95.80%]\n"
          ]
        },
        {
          "output_type": "stream",
          "name": "stdout",
          "text": [
            "Epoch 28/90:\n",
            "  Train Loss: 0.0865\n",
            "  Val Loss: 0.1181\n",
            "  Min F1 Score: 0.9612\n",
            "  Class F1 Scores: [0.96116505 0.9787234  0.975      0.96363636]\n",
            "--------------------------------------------------\n"
          ]
        },
        {
          "output_type": "stream",
          "name": "stderr",
          "text": [
            "Epoch 29/90: 100%|██████████| 31/31 [00:13<00:00,  2.31it/s, Loss=0.0087, Acc=95.50%]\n"
          ]
        },
        {
          "output_type": "stream",
          "name": "stdout",
          "text": [
            "Epoch 29/90:\n",
            "  Train Loss: 0.0952\n",
            "  Val Loss: 0.1422\n",
            "  Min F1 Score: 0.9619\n",
            "  Class F1 Scores: [0.96190476 0.96774194 0.975      0.97196262]\n",
            "--------------------------------------------------\n"
          ]
        },
        {
          "output_type": "stream",
          "name": "stderr",
          "text": [
            "Epoch 30/90: 100%|██████████| 31/31 [00:13<00:00,  2.24it/s, Loss=0.0065, Acc=96.01%]\n"
          ]
        },
        {
          "output_type": "stream",
          "name": "stdout",
          "text": [
            "Epoch 30/90:\n",
            "  Train Loss: 0.0945\n",
            "  Val Loss: 0.1532\n",
            "  Min F1 Score: 0.9195\n",
            "  Class F1 Scores: [0.9569378  0.94505495 0.91954023 0.95145631]\n",
            "--------------------------------------------------\n"
          ]
        },
        {
          "output_type": "stream",
          "name": "stderr",
          "text": [
            "Epoch 31/90: 100%|██████████| 31/31 [00:13<00:00,  2.32it/s, Loss=0.0807, Acc=97.13%]\n"
          ]
        },
        {
          "output_type": "stream",
          "name": "stdout",
          "text": [
            "Epoch 31/90:\n",
            "  Train Loss: 0.0612\n",
            "  Val Loss: 0.1835\n",
            "  Min F1 Score: 0.8837\n",
            "  Class F1 Scores: [0.93137255 0.95744681 0.88372093 0.98113208]\n",
            "--------------------------------------------------\n"
          ]
        },
        {
          "output_type": "stream",
          "name": "stderr",
          "text": [
            "Epoch 32/90: 100%|██████████| 31/31 [00:12<00:00,  2.44it/s, Loss=0.0824, Acc=96.83%]\n"
          ]
        },
        {
          "output_type": "stream",
          "name": "stdout",
          "text": [
            "Epoch 32/90:\n",
            "  Train Loss: 0.0676\n",
            "  Val Loss: 0.2381\n",
            "  Min F1 Score: 0.8966\n",
            "  Class F1 Scores: [0.95098039 0.93478261 0.89655172 0.99065421]\n",
            "--------------------------------------------------\n"
          ]
        },
        {
          "output_type": "stream",
          "name": "stderr",
          "text": [
            "Epoch 33/90: 100%|██████████| 31/31 [00:13<00:00,  2.27it/s, Loss=0.2572, Acc=97.75%]\n"
          ]
        },
        {
          "output_type": "stream",
          "name": "stdout",
          "text": [
            "Epoch 33/90:\n",
            "  Train Loss: 0.0664\n",
            "  Val Loss: 0.1623\n",
            "  Min F1 Score: 0.9286\n",
            "  Class F1 Scores: [0.94581281 0.95744681 0.92857143 0.97247706]\n",
            "--------------------------------------------------\n"
          ]
        },
        {
          "output_type": "stream",
          "name": "stderr",
          "text": [
            "Epoch 34/90: 100%|██████████| 31/31 [00:13<00:00,  2.36it/s, Loss=0.0342, Acc=97.54%]\n"
          ]
        },
        {
          "output_type": "stream",
          "name": "stdout",
          "text": [
            "Epoch 34/90:\n",
            "  Train Loss: 0.0509\n",
            "  Val Loss: 0.1334\n",
            "  Min F1 Score: 0.9583\n",
            "  Class F1 Scores: [0.96116505 0.95833333 0.96296296 0.97196262]\n",
            "--------------------------------------------------\n"
          ]
        },
        {
          "output_type": "stream",
          "name": "stderr",
          "text": [
            "Epoch 35/90: 100%|██████████| 31/31 [00:13<00:00,  2.26it/s, Loss=0.0059, Acc=98.46%]\n"
          ]
        },
        {
          "output_type": "stream",
          "name": "stdout",
          "text": [
            "Epoch 35/90:\n",
            "  Train Loss: 0.0508\n",
            "  Val Loss: 0.1078\n",
            "  Min F1 Score: 0.9176\n",
            "  Class F1 Scores: [0.96618357 0.96774194 0.91764706 0.97142857]\n",
            "--------------------------------------------------\n"
          ]
        },
        {
          "output_type": "stream",
          "name": "stderr",
          "text": [
            "Epoch 36/90: 100%|██████████| 31/31 [00:13<00:00,  2.31it/s, Loss=0.4747, Acc=96.72%]\n"
          ]
        },
        {
          "output_type": "stream",
          "name": "stdout",
          "text": [
            "Epoch 36/90:\n",
            "  Train Loss: 0.1148\n",
            "  Val Loss: 0.1209\n",
            "  Min F1 Score: 0.9574\n",
            "  Class F1 Scores: [0.97652582 0.95744681 0.98734177 0.98076923]\n",
            "--------------------------------------------------\n"
          ]
        },
        {
          "output_type": "stream",
          "name": "stderr",
          "text": [
            "Epoch 37/90: 100%|██████████| 31/31 [00:13<00:00,  2.27it/s, Loss=0.0240, Acc=97.13%]\n"
          ]
        },
        {
          "output_type": "stream",
          "name": "stdout",
          "text": [
            "Epoch 37/90:\n",
            "  Train Loss: 0.0662\n",
            "  Val Loss: 0.1417\n",
            "  Min F1 Score: 0.9375\n",
            "  Class F1 Scores: [0.9468599  0.9375     0.9382716  0.98113208]\n",
            "--------------------------------------------------\n"
          ]
        },
        {
          "output_type": "stream",
          "name": "stderr",
          "text": [
            "Epoch 38/90: 100%|██████████| 31/31 [00:12<00:00,  2.43it/s, Loss=0.0029, Acc=96.93%]\n"
          ]
        },
        {
          "output_type": "stream",
          "name": "stdout",
          "text": [
            "Epoch 38/90:\n",
            "  Train Loss: 0.0632\n",
            "  Val Loss: 0.1264\n",
            "  Min F1 Score: 0.9388\n",
            "  Class F1 Scores: [0.96618357 0.93877551 0.95121951 0.95145631]\n",
            "--------------------------------------------------\n"
          ]
        },
        {
          "output_type": "stream",
          "name": "stderr",
          "text": [
            "Epoch 39/90: 100%|██████████| 31/31 [00:13<00:00,  2.30it/s, Loss=0.0083, Acc=97.75%]\n"
          ]
        },
        {
          "output_type": "stream",
          "name": "stdout",
          "text": [
            "Epoch 39/90:\n",
            "  Train Loss: 0.0661\n",
            "  Val Loss: 0.1053\n",
            "  Min F1 Score: 0.9195\n",
            "  Class F1 Scores: [0.95049505 0.9787234  0.91954023 0.99065421]\n",
            "--------------------------------------------------\n"
          ]
        },
        {
          "output_type": "stream",
          "name": "stderr",
          "text": [
            "Epoch 40/90: 100%|██████████| 31/31 [00:13<00:00,  2.28it/s, Loss=0.1034, Acc=98.16%]\n"
          ]
        },
        {
          "output_type": "stream",
          "name": "stdout",
          "text": [
            "Epoch 40/90:\n",
            "  Train Loss: 0.0388\n",
            "  Val Loss: 0.1080\n",
            "  Min F1 Score: 0.9639\n",
            "  Class F1 Scores: [0.97087379 0.9787234  0.96385542 0.99065421]\n",
            "--------------------------------------------------\n"
          ]
        },
        {
          "output_type": "stream",
          "name": "stderr",
          "text": [
            "Epoch 41/90: 100%|██████████| 31/31 [00:13<00:00,  2.33it/s, Loss=0.0262, Acc=98.26%]\n"
          ]
        },
        {
          "output_type": "stream",
          "name": "stdout",
          "text": [
            "Epoch 41/90:\n",
            "  Train Loss: 0.0301\n",
            "  Val Loss: 0.1105\n",
            "  Min F1 Score: 0.9474\n",
            "  Class F1 Scores: [0.97087379 0.94736842 0.97560976 0.99065421]\n",
            "--------------------------------------------------\n"
          ]
        },
        {
          "output_type": "stream",
          "name": "stderr",
          "text": [
            "Epoch 42/90: 100%|██████████| 31/31 [00:13<00:00,  2.28it/s, Loss=0.4048, Acc=96.93%]\n"
          ]
        },
        {
          "output_type": "stream",
          "name": "stdout",
          "text": [
            "Epoch 42/90:\n",
            "  Train Loss: 0.0657\n",
            "  Val Loss: 0.1731\n",
            "  Min F1 Score: 0.9398\n",
            "  Class F1 Scores: [0.99047619 0.95744681 0.93975904 0.97087379]\n",
            "--------------------------------------------------\n"
          ]
        },
        {
          "output_type": "stream",
          "name": "stderr",
          "text": [
            "Epoch 43/90: 100%|██████████| 31/31 [00:13<00:00,  2.22it/s, Loss=0.0082, Acc=98.06%]\n"
          ]
        },
        {
          "output_type": "stream",
          "name": "stdout",
          "text": [
            "Epoch 43/90:\n",
            "  Train Loss: 0.0410\n",
            "  Val Loss: 0.1448\n",
            "  Min F1 Score: 0.9195\n",
            "  Class F1 Scores: [0.95609756 0.9375     0.91954023 0.96078431]\n",
            "--------------------------------------------------\n"
          ]
        },
        {
          "output_type": "stream",
          "name": "stderr",
          "text": [
            "Epoch 44/90: 100%|██████████| 31/31 [00:13<00:00,  2.34it/s, Loss=0.1390, Acc=97.65%]\n"
          ]
        },
        {
          "output_type": "stream",
          "name": "stdout",
          "text": [
            "Epoch 44/90:\n",
            "  Train Loss: 0.0539\n",
            "  Val Loss: 0.1344\n",
            "  Min F1 Score: 0.9091\n",
            "  Class F1 Scores: [0.96078431 0.96774194 0.90909091 0.95238095]\n",
            "--------------------------------------------------\n"
          ]
        },
        {
          "output_type": "stream",
          "name": "stderr",
          "text": [
            "Epoch 45/90: 100%|██████████| 31/31 [00:13<00:00,  2.38it/s, Loss=0.0009, Acc=97.95%]\n"
          ]
        },
        {
          "output_type": "stream",
          "name": "stdout",
          "text": [
            "Epoch 45/90:\n",
            "  Train Loss: 0.0351\n",
            "  Val Loss: 0.1169\n",
            "  Min F1 Score: 0.9574\n",
            "  Class F1 Scores: [0.98095238 0.95744681 0.975      0.98113208]\n",
            "--------------------------------------------------\n"
          ]
        },
        {
          "output_type": "stream",
          "name": "stderr",
          "text": [
            "Epoch 46/90: 100%|██████████| 31/31 [00:13<00:00,  2.35it/s, Loss=0.1003, Acc=98.36%]\n"
          ]
        },
        {
          "output_type": "stream",
          "name": "stdout",
          "text": [
            "Epoch 46/90:\n",
            "  Train Loss: 0.0432\n",
            "  Val Loss: 0.1135\n",
            "  Min F1 Score: 0.9574\n",
            "  Class F1 Scores: [0.97630332 0.95744681 0.975      0.97142857]\n",
            "--------------------------------------------------\n"
          ]
        },
        {
          "output_type": "stream",
          "name": "stderr",
          "text": [
            "Epoch 47/90: 100%|██████████| 31/31 [00:13<00:00,  2.33it/s, Loss=0.0420, Acc=98.26%]\n"
          ]
        },
        {
          "output_type": "stream",
          "name": "stdout",
          "text": [
            "Epoch 47/90:\n",
            "  Train Loss: 0.0578\n",
            "  Val Loss: 0.1109\n",
            "  Min F1 Score: 0.9574\n",
            "  Class F1 Scores: [0.97652582 0.95744681 0.98734177 0.98076923]\n",
            "--------------------------------------------------\n"
          ]
        },
        {
          "output_type": "stream",
          "name": "stderr",
          "text": [
            "Epoch 48/90: 100%|██████████| 31/31 [00:13<00:00,  2.33it/s, Loss=0.0068, Acc=98.67%]\n"
          ]
        },
        {
          "output_type": "stream",
          "name": "stdout",
          "text": [
            "Epoch 48/90:\n",
            "  Train Loss: 0.0269\n",
            "  Val Loss: 0.1110\n",
            "  Min F1 Score: 0.9583\n",
            "  Class F1 Scores: [0.96153846 0.95833333 1.         0.96226415]\n",
            "--------------------------------------------------\n"
          ]
        },
        {
          "output_type": "stream",
          "name": "stderr",
          "text": [
            "Epoch 49/90: 100%|██████████| 31/31 [00:13<00:00,  2.28it/s, Loss=0.0114, Acc=97.85%]\n"
          ]
        },
        {
          "output_type": "stream",
          "name": "stdout",
          "text": [
            "Epoch 49/90:\n",
            "  Train Loss: 0.0543\n",
            "  Val Loss: 0.1167\n",
            "  Min F1 Score: 0.9293\n",
            "  Class F1 Scores: [0.96078431 0.92929293 0.96296296 0.98113208]\n",
            "--------------------------------------------------\n"
          ]
        },
        {
          "output_type": "stream",
          "name": "stderr",
          "text": [
            "Epoch 50/90: 100%|██████████| 31/31 [00:13<00:00,  2.35it/s, Loss=0.0360, Acc=98.06%]\n"
          ]
        },
        {
          "output_type": "stream",
          "name": "stdout",
          "text": [
            "Epoch 50/90:\n",
            "  Train Loss: 0.0460\n",
            "  Val Loss: 0.1051\n",
            "  Min F1 Score: 0.9474\n",
            "  Class F1 Scores: [0.95609756 0.94736842 0.96385542 0.97196262]\n",
            "--------------------------------------------------\n"
          ]
        },
        {
          "output_type": "stream",
          "name": "stderr",
          "text": [
            "Epoch 51/90: 100%|██████████| 31/31 [00:13<00:00,  2.28it/s, Loss=0.1524, Acc=98.16%]\n"
          ]
        },
        {
          "output_type": "stream",
          "name": "stdout",
          "text": [
            "Epoch 51/90:\n",
            "  Train Loss: 0.0325\n",
            "  Val Loss: 0.1018\n",
            "  Min F1 Score: 0.9615\n",
            "  Class F1 Scores: [0.98095238 0.96774194 0.96385542 0.96153846]\n",
            "--------------------------------------------------\n"
          ]
        },
        {
          "output_type": "stream",
          "name": "stderr",
          "text": [
            "Epoch 52/90: 100%|██████████| 31/31 [00:13<00:00,  2.28it/s, Loss=0.0138, Acc=99.18%]\n"
          ]
        },
        {
          "output_type": "stream",
          "name": "stdout",
          "text": [
            "Epoch 52/90:\n",
            "  Train Loss: 0.0220\n",
            "  Val Loss: 0.1029\n",
            "  Min F1 Score: 0.9485\n",
            "  Class F1 Scores: [0.97607656 0.94845361 0.97560976 0.96078431]\n",
            "--------------------------------------------------\n"
          ]
        },
        {
          "output_type": "stream",
          "name": "stderr",
          "text": [
            "Epoch 53/90: 100%|██████████| 31/31 [00:13<00:00,  2.30it/s, Loss=0.0492, Acc=98.98%]\n"
          ]
        },
        {
          "output_type": "stream",
          "name": "stdout",
          "text": [
            "Epoch 53/90:\n",
            "  Train Loss: 0.0204\n",
            "  Val Loss: 0.0972\n",
            "  Min F1 Score: 0.9375\n",
            "  Class F1 Scores: [0.97142857 0.9375     0.97560976 0.96078431]\n",
            "--------------------------------------------------\n"
          ]
        },
        {
          "output_type": "stream",
          "name": "stderr",
          "text": [
            "Epoch 54/90: 100%|██████████| 31/31 [00:13<00:00,  2.28it/s, Loss=0.0059, Acc=98.36%]\n"
          ]
        },
        {
          "output_type": "stream",
          "name": "stdout",
          "text": [
            "Epoch 54/90:\n",
            "  Train Loss: 0.0276\n",
            "  Val Loss: 0.0904\n",
            "  Min F1 Score: 0.9677\n",
            "  Class F1 Scores: [0.98113208 0.96774194 0.97560976 0.97087379]\n",
            "--------------------------------------------------\n"
          ]
        },
        {
          "output_type": "stream",
          "name": "stderr",
          "text": [
            "Epoch 55/90: 100%|██████████| 31/31 [00:13<00:00,  2.29it/s, Loss=0.0074, Acc=98.87%]\n"
          ]
        },
        {
          "output_type": "stream",
          "name": "stdout",
          "text": [
            "Epoch 55/90:\n",
            "  Train Loss: 0.0204\n",
            "  Val Loss: 0.0931\n",
            "  Min F1 Score: 0.9677\n",
            "  Class F1 Scores: [0.98113208 0.96774194 0.97560976 0.97087379]\n",
            "--------------------------------------------------\n"
          ]
        },
        {
          "output_type": "stream",
          "name": "stderr",
          "text": [
            "Epoch 56/90: 100%|██████████| 31/31 [00:13<00:00,  2.30it/s, Loss=0.0043, Acc=98.77%]\n"
          ]
        },
        {
          "output_type": "stream",
          "name": "stdout",
          "text": [
            "Epoch 56/90:\n",
            "  Train Loss: 0.0315\n",
            "  Val Loss: 0.1129\n",
            "  Min F1 Score: 0.9677\n",
            "  Class F1 Scores: [0.98113208 0.96774194 1.         0.99047619]\n",
            "--------------------------------------------------\n"
          ]
        },
        {
          "output_type": "stream",
          "name": "stderr",
          "text": [
            "Epoch 57/90: 100%|██████████| 31/31 [00:13<00:00,  2.23it/s, Loss=0.0343, Acc=98.67%]\n"
          ]
        },
        {
          "output_type": "stream",
          "name": "stdout",
          "text": [
            "Epoch 57/90:\n",
            "  Train Loss: 0.0377\n",
            "  Val Loss: 0.0893\n",
            "  Min F1 Score: 0.9677\n",
            "  Class F1 Scores: [0.98113208 0.96774194 1.         0.99047619]\n",
            "--------------------------------------------------\n"
          ]
        },
        {
          "output_type": "stream",
          "name": "stderr",
          "text": [
            "Epoch 58/90: 100%|██████████| 31/31 [00:13<00:00,  2.32it/s, Loss=0.0436, Acc=98.87%]\n"
          ]
        },
        {
          "output_type": "stream",
          "name": "stdout",
          "text": [
            "Epoch 58/90:\n",
            "  Train Loss: 0.0295\n",
            "  Val Loss: 0.0975\n",
            "  Min F1 Score: 0.9474\n",
            "  Class F1 Scores: [0.96650718 0.94736842 1.         0.98113208]\n",
            "--------------------------------------------------\n"
          ]
        },
        {
          "output_type": "stream",
          "name": "stderr",
          "text": [
            "Epoch 59/90: 100%|██████████| 31/31 [00:13<00:00,  2.30it/s, Loss=0.0878, Acc=97.85%]\n"
          ]
        },
        {
          "output_type": "stream",
          "name": "stdout",
          "text": [
            "Epoch 59/90:\n",
            "  Train Loss: 0.0338\n",
            "  Val Loss: 0.1222\n",
            "  Min F1 Score: 0.9375\n",
            "  Class F1 Scores: [0.96153846 0.9375     0.97560976 0.98076923]\n",
            "--------------------------------------------------\n"
          ]
        },
        {
          "output_type": "stream",
          "name": "stderr",
          "text": [
            "Epoch 60/90: 100%|██████████| 31/31 [00:13<00:00,  2.27it/s, Loss=0.0996, Acc=98.46%]\n"
          ]
        },
        {
          "output_type": "stream",
          "name": "stdout",
          "text": [
            "Epoch 60/90:\n",
            "  Train Loss: 0.0426\n",
            "  Val Loss: 0.1026\n",
            "  Min F1 Score: 0.9583\n",
            "  Class F1 Scores: [0.98076923 0.95833333 1.         1.        ]\n",
            "--------------------------------------------------\n"
          ]
        },
        {
          "output_type": "stream",
          "name": "stderr",
          "text": [
            "Epoch 61/90: 100%|██████████| 31/31 [00:13<00:00,  2.28it/s, Loss=0.0669, Acc=98.67%]\n"
          ]
        },
        {
          "output_type": "stream",
          "name": "stdout",
          "text": [
            "Epoch 61/90:\n",
            "  Train Loss: 0.0255\n",
            "  Val Loss: 0.0950\n",
            "  Min F1 Score: 0.9474\n",
            "  Class F1 Scores: [0.97142857 0.94736842 1.         0.99047619]\n",
            "--------------------------------------------------\n"
          ]
        },
        {
          "output_type": "stream",
          "name": "stderr",
          "text": [
            "Epoch 62/90: 100%|██████████| 31/31 [00:13<00:00,  2.35it/s, Loss=0.2331, Acc=98.36%]\n"
          ]
        },
        {
          "output_type": "stream",
          "name": "stdout",
          "text": [
            "Epoch 62/90:\n",
            "  Train Loss: 0.0396\n",
            "  Val Loss: 0.1008\n",
            "  Min F1 Score: 0.9574\n",
            "  Class F1 Scores: [0.98578199 0.95744681 1.         0.99047619]\n",
            "--------------------------------------------------\n"
          ]
        },
        {
          "output_type": "stream",
          "name": "stderr",
          "text": [
            "Epoch 63/90: 100%|██████████| 31/31 [00:13<00:00,  2.33it/s, Loss=0.0569, Acc=98.77%]\n"
          ]
        },
        {
          "output_type": "stream",
          "name": "stdout",
          "text": [
            "Epoch 63/90:\n",
            "  Train Loss: 0.0293\n",
            "  Val Loss: 0.0959\n",
            "  Min F1 Score: 0.9677\n",
            "  Class F1 Scores: [0.98095238 0.96774194 1.         0.99065421]\n",
            "--------------------------------------------------\n"
          ]
        },
        {
          "output_type": "stream",
          "name": "stderr",
          "text": [
            "Epoch 64/90: 100%|██████████| 31/31 [00:12<00:00,  2.42it/s, Loss=0.1084, Acc=98.67%]\n"
          ]
        },
        {
          "output_type": "stream",
          "name": "stdout",
          "text": [
            "Epoch 64/90:\n",
            "  Train Loss: 0.0220\n",
            "  Val Loss: 0.0942\n",
            "  Min F1 Score: 0.9684\n",
            "  Class F1 Scores: [0.99047619 0.96842105 1.         0.99047619]\n",
            "--------------------------------------------------\n"
          ]
        },
        {
          "output_type": "stream",
          "name": "stderr",
          "text": [
            "Epoch 65/90: 100%|██████████| 31/31 [00:12<00:00,  2.39it/s, Loss=0.4701, Acc=98.87%]\n"
          ]
        },
        {
          "output_type": "stream",
          "name": "stdout",
          "text": [
            "Epoch 65/90:\n",
            "  Train Loss: 0.0339\n",
            "  Val Loss: 0.0849\n",
            "  Min F1 Score: 0.9677\n",
            "  Class F1 Scores: [0.98578199 0.96774194 1.         1.        ]\n",
            "--------------------------------------------------\n"
          ]
        },
        {
          "output_type": "stream",
          "name": "stderr",
          "text": [
            "Epoch 66/90: 100%|██████████| 31/31 [00:13<00:00,  2.28it/s, Loss=0.1000, Acc=98.36%]\n"
          ]
        },
        {
          "output_type": "stream",
          "name": "stdout",
          "text": [
            "Epoch 66/90:\n",
            "  Train Loss: 0.0353\n",
            "  Val Loss: 0.1022\n",
            "  Min F1 Score: 0.9684\n",
            "  Class F1 Scores: [0.97607656 0.96842105 0.97560976 0.98076923]\n",
            "--------------------------------------------------\n"
          ]
        },
        {
          "output_type": "stream",
          "name": "stderr",
          "text": [
            "Epoch 67/90: 100%|██████████| 31/31 [00:13<00:00,  2.28it/s, Loss=0.1447, Acc=98.36%]\n"
          ]
        },
        {
          "output_type": "stream",
          "name": "stdout",
          "text": [
            "Epoch 67/90:\n",
            "  Train Loss: 0.0247\n",
            "  Val Loss: 0.0912\n",
            "  Min F1 Score: 0.9756\n",
            "  Class F1 Scores: [0.98076923 0.9787234  0.97560976 1.        ]\n",
            "--------------------------------------------------\n"
          ]
        },
        {
          "output_type": "stream",
          "name": "stderr",
          "text": [
            "Epoch 68/90: 100%|██████████| 31/31 [00:13<00:00,  2.34it/s, Loss=0.1193, Acc=98.87%]\n"
          ]
        },
        {
          "output_type": "stream",
          "name": "stdout",
          "text": [
            "Epoch 68/90:\n",
            "  Train Loss: 0.0212\n",
            "  Val Loss: 0.0837\n",
            "  Min F1 Score: 0.9787\n",
            "  Class F1 Scores: [0.99047619 0.9787234  1.         1.        ]\n",
            "--------------------------------------------------\n"
          ]
        },
        {
          "output_type": "stream",
          "name": "stderr",
          "text": [
            "Epoch 69/90: 100%|██████████| 31/31 [00:13<00:00,  2.26it/s, Loss=0.0171, Acc=98.46%]\n"
          ]
        },
        {
          "output_type": "stream",
          "name": "stdout",
          "text": [
            "Epoch 69/90:\n",
            "  Train Loss: 0.0331\n",
            "  Val Loss: 0.0846\n",
            "  Min F1 Score: 0.9787\n",
            "  Class F1 Scores: [0.98578199 0.9787234  1.         0.99047619]\n",
            "--------------------------------------------------\n"
          ]
        },
        {
          "output_type": "stream",
          "name": "stderr",
          "text": [
            "Epoch 70/90: 100%|██████████| 31/31 [00:13<00:00,  2.31it/s, Loss=0.0025, Acc=99.28%]\n"
          ]
        },
        {
          "output_type": "stream",
          "name": "stdout",
          "text": [
            "Epoch 70/90:\n",
            "  Train Loss: 0.0166\n",
            "  Val Loss: 0.0936\n",
            "  Min F1 Score: 0.9677\n",
            "  Class F1 Scores: [0.98113208 0.96774194 1.         0.99047619]\n",
            "--------------------------------------------------\n"
          ]
        },
        {
          "output_type": "stream",
          "name": "stderr",
          "text": [
            "Epoch 71/90: 100%|██████████| 31/31 [00:13<00:00,  2.36it/s, Loss=0.0870, Acc=99.18%]\n"
          ]
        },
        {
          "output_type": "stream",
          "name": "stdout",
          "text": [
            "Epoch 71/90:\n",
            "  Train Loss: 0.0236\n",
            "  Val Loss: 0.0874\n",
            "  Min F1 Score: 0.9787\n",
            "  Class F1 Scores: [0.98578199 0.9787234  1.         0.99047619]\n",
            "--------------------------------------------------\n"
          ]
        },
        {
          "output_type": "stream",
          "name": "stderr",
          "text": [
            "Epoch 72/90: 100%|██████████| 31/31 [00:12<00:00,  2.41it/s, Loss=0.0029, Acc=98.87%]\n"
          ]
        },
        {
          "output_type": "stream",
          "name": "stdout",
          "text": [
            "Epoch 72/90:\n",
            "  Train Loss: 0.0218\n",
            "  Val Loss: 0.0863\n",
            "  Min F1 Score: 0.9787\n",
            "  Class F1 Scores: [0.98578199 0.9787234  1.         0.99047619]\n",
            "--------------------------------------------------\n"
          ]
        },
        {
          "output_type": "stream",
          "name": "stderr",
          "text": [
            "Epoch 73/90: 100%|██████████| 31/31 [00:13<00:00,  2.30it/s, Loss=0.0041, Acc=98.98%]\n"
          ]
        },
        {
          "output_type": "stream",
          "name": "stdout",
          "text": [
            "Epoch 73/90:\n",
            "  Train Loss: 0.0259\n",
            "  Val Loss: 0.0879\n",
            "  Min F1 Score: 0.9677\n",
            "  Class F1 Scores: [0.98578199 0.96774194 1.         1.        ]\n",
            "--------------------------------------------------\n"
          ]
        },
        {
          "output_type": "stream",
          "name": "stderr",
          "text": [
            "Epoch 74/90: 100%|██████████| 31/31 [00:13<00:00,  2.33it/s, Loss=0.1803, Acc=99.28%]\n"
          ]
        },
        {
          "output_type": "stream",
          "name": "stdout",
          "text": [
            "Epoch 74/90:\n",
            "  Train Loss: 0.0287\n",
            "  Val Loss: 0.0925\n",
            "  Min F1 Score: 0.9787\n",
            "  Class F1 Scores: [0.98578199 0.9787234  1.         0.99047619]\n",
            "--------------------------------------------------\n"
          ]
        },
        {
          "output_type": "stream",
          "name": "stderr",
          "text": [
            "Epoch 75/90: 100%|██████████| 31/31 [00:13<00:00,  2.28it/s, Loss=0.0017, Acc=98.77%]\n"
          ]
        },
        {
          "output_type": "stream",
          "name": "stdout",
          "text": [
            "Epoch 75/90:\n",
            "  Train Loss: 0.0259\n",
            "  Val Loss: 0.0907\n",
            "  Min F1 Score: 0.9677\n",
            "  Class F1 Scores: [0.98578199 0.96774194 1.         1.        ]\n",
            "--------------------------------------------------\n"
          ]
        },
        {
          "output_type": "stream",
          "name": "stderr",
          "text": [
            "Epoch 76/90: 100%|██████████| 31/31 [00:13<00:00,  2.36it/s, Loss=0.0370, Acc=98.67%]\n"
          ]
        },
        {
          "output_type": "stream",
          "name": "stdout",
          "text": [
            "Epoch 76/90:\n",
            "  Train Loss: 0.0189\n",
            "  Val Loss: 0.0884\n",
            "  Min F1 Score: 0.9677\n",
            "  Class F1 Scores: [0.98113208 0.96774194 1.         0.99047619]\n",
            "--------------------------------------------------\n"
          ]
        },
        {
          "output_type": "stream",
          "name": "stderr",
          "text": [
            "Epoch 77/90: 100%|██████████| 31/31 [00:13<00:00,  2.32it/s, Loss=0.0078, Acc=98.67%]\n"
          ]
        },
        {
          "output_type": "stream",
          "name": "stdout",
          "text": [
            "Epoch 77/90:\n",
            "  Train Loss: 0.0356\n",
            "  Val Loss: 0.0916\n",
            "  Min F1 Score: 0.9677\n",
            "  Class F1 Scores: [0.98113208 0.96774194 1.         0.99047619]\n",
            "--------------------------------------------------\n"
          ]
        },
        {
          "output_type": "stream",
          "name": "stderr",
          "text": [
            "Epoch 78/90: 100%|██████████| 31/31 [00:13<00:00,  2.30it/s, Loss=0.0029, Acc=99.39%]\n"
          ]
        },
        {
          "output_type": "stream",
          "name": "stdout",
          "text": [
            "Epoch 78/90:\n",
            "  Train Loss: 0.0165\n",
            "  Val Loss: 0.0905\n",
            "  Min F1 Score: 0.9787\n",
            "  Class F1 Scores: [0.98578199 0.9787234  1.         0.99047619]\n",
            "--------------------------------------------------\n"
          ]
        },
        {
          "output_type": "stream",
          "name": "stderr",
          "text": [
            "Epoch 79/90: 100%|██████████| 31/31 [00:12<00:00,  2.41it/s, Loss=0.0169, Acc=99.18%]\n"
          ]
        },
        {
          "output_type": "stream",
          "name": "stdout",
          "text": [
            "Epoch 79/90:\n",
            "  Train Loss: 0.0162\n",
            "  Val Loss: 0.0878\n",
            "  Min F1 Score: 0.9677\n",
            "  Class F1 Scores: [0.98113208 0.96774194 1.         0.99047619]\n",
            "--------------------------------------------------\n"
          ]
        },
        {
          "output_type": "stream",
          "name": "stderr",
          "text": [
            "Epoch 80/90: 100%|██████████| 31/31 [00:13<00:00,  2.22it/s, Loss=0.0264, Acc=98.57%]\n"
          ]
        },
        {
          "output_type": "stream",
          "name": "stdout",
          "text": [
            "Epoch 80/90:\n",
            "  Train Loss: 0.0285\n",
            "  Val Loss: 0.0809\n",
            "  Min F1 Score: 0.9677\n",
            "  Class F1 Scores: [0.98113208 0.96774194 1.         0.99047619]\n",
            "--------------------------------------------------\n"
          ]
        },
        {
          "output_type": "stream",
          "name": "stderr",
          "text": [
            "Epoch 81/90: 100%|██████████| 31/31 [00:13<00:00,  2.29it/s, Loss=0.0165, Acc=99.28%]\n"
          ]
        },
        {
          "output_type": "stream",
          "name": "stdout",
          "text": [
            "Epoch 81/90:\n",
            "  Train Loss: 0.0162\n",
            "  Val Loss: 0.0949\n",
            "  Min F1 Score: 0.9677\n",
            "  Class F1 Scores: [0.98113208 0.96774194 1.         0.99047619]\n",
            "--------------------------------------------------\n"
          ]
        },
        {
          "output_type": "stream",
          "name": "stderr",
          "text": [
            "Epoch 82/90: 100%|██████████| 31/31 [00:13<00:00,  2.37it/s, Loss=0.0063, Acc=99.28%]\n"
          ]
        },
        {
          "output_type": "stream",
          "name": "stdout",
          "text": [
            "Epoch 82/90:\n",
            "  Train Loss: 0.0131\n",
            "  Val Loss: 0.0980\n",
            "  Min F1 Score: 0.9677\n",
            "  Class F1 Scores: [0.97142857 0.96774194 0.97560976 0.99047619]\n",
            "--------------------------------------------------\n"
          ]
        },
        {
          "output_type": "stream",
          "name": "stderr",
          "text": [
            "Epoch 83/90: 100%|██████████| 31/31 [00:13<00:00,  2.35it/s, Loss=0.0003, Acc=99.28%]\n"
          ]
        },
        {
          "output_type": "stream",
          "name": "stdout",
          "text": [
            "Epoch 83/90:\n",
            "  Train Loss: 0.0126\n",
            "  Val Loss: 0.0979\n",
            "  Min F1 Score: 0.9677\n",
            "  Class F1 Scores: [0.98113208 0.96774194 1.         0.99047619]\n",
            "--------------------------------------------------\n"
          ]
        },
        {
          "output_type": "stream",
          "name": "stderr",
          "text": [
            "Epoch 84/90: 100%|██████████| 31/31 [00:13<00:00,  2.31it/s, Loss=0.0013, Acc=98.26%]\n"
          ]
        },
        {
          "output_type": "stream",
          "name": "stdout",
          "text": [
            "Epoch 84/90:\n",
            "  Train Loss: 0.0309\n",
            "  Val Loss: 0.0887\n",
            "  Min F1 Score: 0.9677\n",
            "  Class F1 Scores: [0.97142857 0.96774194 0.97560976 0.99047619]\n",
            "--------------------------------------------------\n"
          ]
        },
        {
          "output_type": "stream",
          "name": "stderr",
          "text": [
            "Epoch 85/90: 100%|██████████| 31/31 [00:12<00:00,  2.53it/s, Loss=0.0020, Acc=99.28%]\n"
          ]
        },
        {
          "output_type": "stream",
          "name": "stdout",
          "text": [
            "Epoch 85/90:\n",
            "  Train Loss: 0.0221\n",
            "  Val Loss: 0.0922\n",
            "  Min F1 Score: 0.9677\n",
            "  Class F1 Scores: [0.98113208 0.96774194 0.97560976 0.97087379]\n",
            "--------------------------------------------------\n"
          ]
        },
        {
          "output_type": "stream",
          "name": "stderr",
          "text": [
            "Epoch 86/90: 100%|██████████| 31/31 [00:12<00:00,  2.44it/s, Loss=0.0939, Acc=98.57%]\n"
          ]
        },
        {
          "output_type": "stream",
          "name": "stdout",
          "text": [
            "Epoch 86/90:\n",
            "  Train Loss: 0.0282\n",
            "  Val Loss: 0.1008\n",
            "  Min F1 Score: 0.9677\n",
            "  Class F1 Scores: [0.97142857 0.96774194 0.97560976 0.99047619]\n",
            "--------------------------------------------------\n"
          ]
        },
        {
          "output_type": "stream",
          "name": "stderr",
          "text": [
            "Epoch 87/90: 100%|██████████| 31/31 [00:13<00:00,  2.31it/s, Loss=0.0007, Acc=98.87%]\n"
          ]
        },
        {
          "output_type": "stream",
          "name": "stdout",
          "text": [
            "Epoch 87/90:\n",
            "  Train Loss: 0.0253\n",
            "  Val Loss: 0.0831\n",
            "  Min F1 Score: 0.9677\n",
            "  Class F1 Scores: [0.98578199 0.96774194 1.         1.        ]\n",
            "--------------------------------------------------\n"
          ]
        },
        {
          "output_type": "stream",
          "name": "stderr",
          "text": [
            "Epoch 88/90: 100%|██████████| 31/31 [00:14<00:00,  2.19it/s, Loss=0.0962, Acc=99.08%]\n"
          ]
        },
        {
          "output_type": "stream",
          "name": "stdout",
          "text": [
            "Epoch 88/90:\n",
            "  Train Loss: 0.0253\n",
            "  Val Loss: 0.0971\n",
            "  Min F1 Score: 0.9677\n",
            "  Class F1 Scores: [0.98113208 0.96774194 1.         0.99047619]\n",
            "--------------------------------------------------\n"
          ]
        },
        {
          "output_type": "stream",
          "name": "stderr",
          "text": [
            "Epoch 89/90: 100%|██████████| 31/31 [00:14<00:00,  2.16it/s, Loss=0.4059, Acc=98.36%]\n"
          ]
        },
        {
          "output_type": "stream",
          "name": "stdout",
          "text": [
            "Epoch 89/90:\n",
            "  Train Loss: 0.0365\n",
            "  Val Loss: 0.0850\n",
            "  Min F1 Score: 0.9787\n",
            "  Class F1 Scores: [0.99047619 0.9787234  1.         1.        ]\n",
            "--------------------------------------------------\n"
          ]
        },
        {
          "output_type": "stream",
          "name": "stderr",
          "text": [
            "Epoch 90/90: 100%|██████████| 31/31 [00:14<00:00,  2.19it/s, Loss=0.0052, Acc=99.49%]\n"
          ]
        },
        {
          "output_type": "stream",
          "name": "stdout",
          "text": [
            "Epoch 90/90:\n",
            "  Train Loss: 0.0225\n",
            "  Val Loss: 0.0803\n",
            "  Min F1 Score: 0.9677\n",
            "  Class F1 Scores: [0.98578199 0.96774194 1.         1.        ]\n",
            "--------------------------------------------------\n",
            "Best minimum F1 score: 0.9787\n"
          ]
        },
        {
          "output_type": "display_data",
          "data": {
            "text/plain": [
              "<Figure size 1500x500 with 2 Axes>"
            ],
            "image/png": "[encoded data removed]"
          },
          "metadata": {}
        },
        {
          "output_type": "stream",
          "name": "stderr",
          "text": [
            "Evaluating: 100%|██████████| 8/8 [00:02<00:00,  3.29it/s]\n"
          ]
        },
        {
          "output_type": "stream",
          "name": "stdout",
          "text": [
            "\n",
            "Detailed Evaluation Results:\n",
            "==================================================\n",
            "Minimum F1 Score (Competition Metric): 0.9677\n",
            "\n",
            "Per-class F1 Scores:\n",
            "  Alluvial soil: 0.9858\n",
            "  Black Soil: 0.9677\n",
            "  Clay soil: 1.0000\n",
            "  Red soil: 1.0000\n",
            "\n",
            "Classification Report:\n",
            "               precision    recall  f1-score   support\n",
            "\n",
            "Alluvial soil       0.99      0.98      0.99       106\n",
            "   Black Soil       0.96      0.98      0.97        46\n",
            "    Clay soil       1.00      1.00      1.00        40\n",
            "     Red soil       1.00      1.00      1.00        53\n",
            "\n",
            "     accuracy                           0.99       245\n",
            "    macro avg       0.99      0.99      0.99       245\n",
            " weighted avg       0.99      0.99      0.99       245\n",
            "\n"
          ]
        },
        {
          "output_type": "display_data",
          "data": {
            "text/plain": [
              "<Figure size 1000x800 with 2 Axes>"
            ],
            "image/png": "[encoded data removed]"
          },
          "metadata": {}
        },
        {
          "output_type": "stream",
          "name": "stdout",
          "text": [
            "Generating predictions for test set...\n"
          ]
        },
        {
          "output_type": "stream",
          "name": "stderr",
          "text": [
            "Predicting: 100%|██████████| 11/11 [00:17<00:00,  1.56s/it]"
          ]
        },
        {
          "output_type": "stream",
          "name": "stdout",
          "text": [
            "Submission file saved as 'submission.csv'\n",
            "\n",
            "Solution completed successfully!\n",
            "Files generated:\n",
            "- submission.csv: Final predictions for submission\n"
          ]
        },
        {
          "output_type": "stream",
          "name": "stderr",
          "text": [
            "\n"
          ]
        }
      ],
      "source": [
        "#!/usr/bin/env python3\n",
        "\n",
        "import os\n",
        "import pandas as pd\n",
        "import numpy as np\n",
        "import matplotlib.pyplot as plt\n",
        "import seaborn as sns\n",
        "from PIL import Image\n",
        "import warnings\n",
        "warnings.filterwarnings('ignore')\n",
        "\n",
        "# Deep Learning Libraries\n",
        "import torch\n",
        "import torch.nn as nn\n",
        "import torch.optim as optim\n",
        "from torch.utils.data import Dataset, DataLoader, WeightedRandomSampler\n",
        "import torchvision.transforms as transforms\n",
        "import torchvision.models as models\n",
        "from sklearn.model_selection import train_test_split\n",
        "from sklearn.metrics import classification_report, confusion_matrix, f1_score\n",
        "from sklearn.utils.class_weight import compute_class_weight\n",
        "from tqdm import tqdm\n",
        "\n",
        "# Set random seeds for reproducibility\n",
        "np.random.seed(42)\n",
        "torch.manual_seed(42)\n",
        "if torch.cuda.is_available():\n",
        "    torch.cuda.manual_seed(42)\n",
        "\n",
        "# Configuration\n",
        "class Config:\n",
        "    \"\"\"Configuration class containing all hyperparameters and settings\"\"\"\n",
        "\n",
        "    # Paths\n",
        "    TRAIN_DIR = '/content/drive/MyDrive/soil-classification/soil_classification-2025/train'\n",
        "    TEST_DIR = '/content/drive/MyDrive/soil-classification/soil_classification-2025/test'\n",
        "    TRAIN_LABELS_FILE = '/content/drive/MyDrive/soil-classification/soil_classification-2025/train_labels.csv'\n",
        "    TEST_IDS_FILE = '/content/drive/MyDrive/soil-classification/soil_classification-2025/test_ids.csv'\n",
        "\n",
        "    # Model parameters\n",
        "    IMG_SIZE = 224\n",
        "    BATCH_SIZE = 32\n",
        "    EPOCHS = 90\n",
        "    LEARNING_RATE = 0.001\n",
        "    WEIGHT_DECAY = 1e-4\n",
        "\n",
        "    # Class mapping\n",
        "    CLASS_NAMES = ['Alluvial soil', 'Black Soil', 'Clay soil', 'Red soil']\n",
        "    NUM_CLASSES = len(CLASS_NAMES)\n",
        "\n",
        "    # Device configuration\n",
        "    DEVICE = torch.device('cuda' if torch.cuda.is_available() else 'cpu')\n",
        "\n",
        "config = Config()\n",
        "\n",
        "class SoilDataset(Dataset):\n",
        "    \"\"\"\n",
        "    Handles image loading, preprocessing, and augmentation\n",
        "    \"\"\"\n",
        "\n",
        "    def __init__(self, image_paths, labels=None, transform=None):\n",
        "        self.image_paths = image_paths\n",
        "        self.labels = labels\n",
        "        self.transform = transform\n",
        "\n",
        "    def __len__(self):\n",
        "        return len(self.image_paths)\n",
        "\n",
        "    def __getitem__(self, idx):\n",
        "        # Load image\n",
        "        img_path = self.image_paths[idx]\n",
        "        image = Image.open(img_path).convert('RGB')\n",
        "\n",
        "        # Apply transformations\n",
        "        if self.transform:\n",
        "            image = self.transform(image)\n",
        "\n",
        "        if self.labels is not None:\n",
        "            label = self.labels[idx]\n",
        "            return image, label\n",
        "        else:\n",
        "            return image\n",
        "\n",
        "def load_and_prepare_data():\n",
        "    print(\"Loading and preparing data...\")\n",
        "\n",
        "    # Load training labels\n",
        "    train_df = pd.read_csv(config.TRAIN_LABELS_FILE)\n",
        "    test_df = pd.read_csv(config.TEST_IDS_FILE)\n",
        "\n",
        "    # Create class to index mapping\n",
        "    class_to_idx = {class_name: idx for idx, class_name in enumerate(config.CLASS_NAMES)}\n",
        "\n",
        "    # Add full image paths\n",
        "    train_df['image_path'] = train_df['image_id'].apply(\n",
        "        lambda x: os.path.join(config.TRAIN_DIR, x)\n",
        "    )\n",
        "    test_df['image_path'] = test_df['image_id'].apply(\n",
        "        lambda x: os.path.join(config.TEST_DIR, x)\n",
        "    )\n",
        "\n",
        "    # Convert labels to indices\n",
        "    train_df['label_idx'] = train_df['soil_type'].map(class_to_idx)\n",
        "\n",
        "    print(f\"Training samples: {len(train_df)}\")\n",
        "    print(f\"Test samples: {len(test_df)}\")\n",
        "    print(\"\\nClass distribution:\")\n",
        "    print(train_df['soil_type'].value_counts())\n",
        "\n",
        "    return train_df, test_df, class_to_idx\n",
        "\n",
        "def get_transforms():\n",
        "\n",
        "    # Training transformations with augmentation\n",
        "    train_transform = transforms.Compose([\n",
        "        transforms.Resize((config.IMG_SIZE, config.IMG_SIZE)),\n",
        "        transforms.RandomHorizontalFlip(p=0.5),\n",
        "        transforms.RandomVerticalFlip(p=0.3),\n",
        "        transforms.RandomRotation(degrees=15),\n",
        "        transforms.ColorJitter(brightness=0.2, contrast=0.2, saturation=0.2, hue=0.1),\n",
        "        transforms.RandomAffine(degrees=0, translate=(0.1, 0.1)),\n",
        "        transforms.ToTensor(),\n",
        "        transforms.Normalize(mean=[0.485, 0.456, 0.406],\n",
        "                           std=[0.229, 0.224, 0.225])\n",
        "    ])\n",
        "\n",
        "    # Validation/Test transformations (no augmentation)\n",
        "    val_transform = transforms.Compose([\n",
        "        transforms.Resize((config.IMG_SIZE, config.IMG_SIZE)),\n",
        "        transforms.ToTensor(),\n",
        "        transforms.Normalize(mean=[0.485, 0.456, 0.406],\n",
        "                           std=[0.229, 0.224, 0.225])\n",
        "    ])\n",
        "\n",
        "    return train_transform, val_transform\n",
        "\n",
        "class SoilClassifier(nn.Module):\n",
        "    \"\"\"\n",
        "    Soil classification model based on pre-trained EfficientNet\n",
        "\n",
        "    Uses EfficientNetB0 as backbone with custom classifier head\n",
        "    \"\"\"\n",
        "\n",
        "    def __init__(self, num_classes=4, dropout_rate=0.3):\n",
        "        \"\"\"\n",
        "        Initialize the model\n",
        "\n",
        "        Args:\n",
        "            num_classes: Number of soil classes\n",
        "            dropout_rate: Dropout rate for regularization\n",
        "        \"\"\"\n",
        "        super(SoilClassifier, self).__init__()\n",
        "\n",
        "        # Load pre-trained EfficientNetB0\n",
        "        self.backbone = models.efficientnet_b0(pretrained=True)\n",
        "\n",
        "        # Initially freeze all layers\n",
        "        for param in self.backbone.parameters():\n",
        "            param.requires_grad = False\n",
        "        # Unfreeze the last 20 layers initially\n",
        "        for param in list(self.backbone.parameters())[-20:]:\n",
        "            param.requires_grad = True\n",
        "\n",
        "        # Replace classifier head\n",
        "        num_features = self.backbone.classifier[1].in_features\n",
        "        self.backbone.classifier = nn.Sequential(\n",
        "            nn.Dropout(dropout_rate),\n",
        "            nn.Linear(num_features, 512),\n",
        "            nn.ReLU(),\n",
        "            nn.Dropout(dropout_rate),\n",
        "            nn.Linear(512, num_classes)\n",
        "        )\n",
        "\n",
        "    def forward(self, x):\n",
        "        return self.backbone(x)\n",
        "\n",
        "def create_weighted_sampler(labels):\n",
        "    \"\"\"\n",
        "    Created weighted random sampler to handle class imbalance\n",
        "\n",
        "    Args:\n",
        "        labels: List of training labels\n",
        "\n",
        "    Returns:\n",
        "        WeightedRandomSampler: Sampler for balanced training\n",
        "    \"\"\"\n",
        "    class_counts = np.bincount(labels)\n",
        "    class_weights = 1.0 / class_counts\n",
        "    sample_weights = [class_weights[label] for label in labels]\n",
        "\n",
        "    return WeightedRandomSampler(\n",
        "        weights=sample_weights,\n",
        "        num_samples=len(sample_weights),\n",
        "        replacement=True\n",
        "    )\n",
        "\n",
        "def train_model(model, train_loader, val_loader, criterion, optimizer, scheduler, num_epochs):\n",
        "    \"\"\"\n",
        "    Training the soil classification model\n",
        "\n",
        "    Args:\n",
        "        model: Neural network model\n",
        "        train_loader: Training data loader\n",
        "        val_loader: Validation data loader\n",
        "        criterion: Loss function\n",
        "        optimizer: Optimizer\n",
        "        scheduler: Learning rate scheduler\n",
        "        num_epochs: Number of training epochs\n",
        "\n",
        "    Returns:\n",
        "        model: Trained model\n",
        "        history: Training history\n",
        "    \"\"\"\n",
        "    print(\"Starting model training...\")\n",
        "\n",
        "    history = {'train_loss': [], 'val_loss': [], 'val_f1': []}\n",
        "    best_f1 = 0.0\n",
        "    best_model_state = None\n",
        "\n",
        "    for epoch in range(num_epochs):\n",
        "        # Training phase\n",
        "        model.train()\n",
        "        train_loss = 0.0\n",
        "        train_correct = 0\n",
        "        train_total = 0\n",
        "\n",
        "        pbar = tqdm(train_loader, desc=f'Epoch {epoch+1}/{num_epochs}')\n",
        "        for images, labels in pbar:\n",
        "            images, labels = images.to(config.DEVICE), labels.to(config.DEVICE)\n",
        "\n",
        "            optimizer.zero_grad()\n",
        "            outputs = model(images)\n",
        "            loss = criterion(outputs, labels)\n",
        "            loss.backward()\n",
        "            optimizer.step()\n",
        "\n",
        "            train_loss += loss.item()\n",
        "            _, predicted = torch.max(outputs.data, 1)\n",
        "            train_total += labels.size(0)\n",
        "            train_correct += (predicted == labels).sum().item()\n",
        "\n",
        "            pbar.set_postfix({\n",
        "                'Loss': f'{loss.item():.4f}',\n",
        "                'Acc': f'{100.*train_correct/train_total:.2f}%'\n",
        "            })\n",
        "\n",
        "        # Validation phase\n",
        "        model.eval()\n",
        "        val_loss = 0.0\n",
        "        val_predictions = []\n",
        "        val_targets = []\n",
        "\n",
        "        with torch.no_grad():\n",
        "            for images, labels in val_loader:\n",
        "                images, labels = images.to(config.DEVICE), labels.to(config.DEVICE)\n",
        "                outputs = model(images)\n",
        "                loss = criterion(outputs, labels)\n",
        "\n",
        "                val_loss += loss.item()\n",
        "                _, predicted = torch.max(outputs, 1)\n",
        "                val_predictions.extend(predicted.cpu().numpy())\n",
        "                val_targets.extend(labels.cpu().numpy())\n",
        "\n",
        "        # Calculate metrics\n",
        "        avg_train_loss = train_loss / len(train_loader)\n",
        "        avg_val_loss = val_loss / len(val_loader)\n",
        "\n",
        "        # Calculate F1 scores for each class\n",
        "        f1_scores = f1_score(val_targets, val_predictions, average=None)\n",
        "        min_f1 = np.min(f1_scores)\n",
        "\n",
        "        history['train_loss'].append(avg_train_loss)\n",
        "        history['val_loss'].append(avg_val_loss)\n",
        "        history['val_f1'].append(min_f1)\n",
        "\n",
        "        # Save best model based on minimum F1 score\n",
        "        if min_f1 > best_f1:\n",
        "            best_f1 = min_f1\n",
        "            best_model_state = model.state_dict().copy()\n",
        "\n",
        "        scheduler.step()\n",
        "\n",
        "        print(f'Epoch {epoch+1}/{num_epochs}:')\n",
        "        print(f'  Train Loss: {avg_train_loss:.4f}')\n",
        "        print(f'  Val Loss: {avg_val_loss:.4f}')\n",
        "        print(f'  Min F1 Score: {min_f1:.4f}')\n",
        "        print(f'  Class F1 Scores: {f1_scores}')\n",
        "        print('-' * 50)\n",
        "\n",
        "    # Load best model\n",
        "    model.load_state_dict(best_model_state)\n",
        "    print(f'Best minimum F1 score: {best_f1:.4f}')\n",
        "\n",
        "    return model, history\n",
        "\n",
        "def evaluate_model(model, data_loader, class_names):\n",
        "    \"\"\"\n",
        "    Evaluates model performance and generate detailed metrics\n",
        "\n",
        "    Args:\n",
        "        model: Trained model\n",
        "        data_loader: Data loader for evaluation\n",
        "        class_names: List of class names\n",
        "\n",
        "    Returns:\n",
        "        predictions: Model predictions\n",
        "        targets: True labels\n",
        "        f1_scores: F1 scores for each class\n",
        "    \"\"\"\n",
        "    model.eval()\n",
        "    predictions = []\n",
        "    targets = []\n",
        "\n",
        "    with torch.no_grad():\n",
        "        for images, labels in tqdm(data_loader, desc='Evaluating'):\n",
        "            images = images.to(config.DEVICE)\n",
        "            outputs = model(images)\n",
        "            _, predicted = torch.max(outputs, 1)\n",
        "\n",
        "            predictions.extend(predicted.cpu().numpy())\n",
        "            targets.extend(labels.numpy())\n",
        "\n",
        "    # Calculate detailed metrics\n",
        "    f1_scores = f1_score(targets, predictions, average=None)\n",
        "    min_f1 = np.min(f1_scores)\n",
        "\n",
        "    print(\"\\nDetailed Evaluation Results:\")\n",
        "    print(\"=\" * 50)\n",
        "    print(f\"Minimum F1 Score (Competition Metric): {min_f1:.4f}\")\n",
        "    print(\"\\nPer-class F1 Scores:\")\n",
        "    for i, (class_name, f1) in enumerate(zip(class_names, f1_scores)):\n",
        "        print(f\"  {class_name}: {f1:.4f}\")\n",
        "\n",
        "    print(\"\\nClassification Report:\")\n",
        "    print(classification_report(targets, predictions, target_names=class_names))\n",
        "\n",
        "    # Plot confusion matrix\n",
        "    cm = confusion_matrix(targets, predictions)\n",
        "    plt.figure(figsize=(10, 8))\n",
        "    sns.heatmap(cm, annot=True, fmt='d', cmap='Blues',\n",
        "                xticklabels=class_names, yticklabels=class_names)\n",
        "    plt.title('Confusion Matrix')\n",
        "    plt.ylabel('True Label')\n",
        "    plt.xlabel('Predicted Label')\n",
        "    plt.tight_layout()\n",
        "    plt.show()\n",
        "\n",
        "    return predictions, targets, f1_scores\n",
        "\n",
        "def generate_predictions(model, test_loader, test_df, class_names):\n",
        "    \"\"\"\n",
        "    Generates predictions for test set and create submission file\n",
        "\n",
        "    Args:\n",
        "        model: Trained model\n",
        "        test_loader: Test data loader\n",
        "        test_df: Test dataframe with image IDs\n",
        "        class_names: List of class names\n",
        "\n",
        "    Returns:\n",
        "        submission_df: DataFrame ready for submission\n",
        "    \"\"\"\n",
        "    print(\"Generating predictions for test set...\")\n",
        "\n",
        "    model.eval()\n",
        "    predictions = []\n",
        "\n",
        "    with torch.no_grad():\n",
        "        for images in tqdm(test_loader, desc='Predicting'):\n",
        "            images = images.to(config.DEVICE)\n",
        "            outputs = model(images)\n",
        "            _, predicted = torch.max(outputs, 1)\n",
        "            predictions.extend(predicted.cpu().numpy())\n",
        "\n",
        "    # Convert predictions to class names\n",
        "    predicted_classes = [class_names[pred] for pred in predictions]\n",
        "\n",
        "    # Create submission dataframe\n",
        "    submission_df = pd.DataFrame({\n",
        "        'image_id': test_df['image_id'],\n",
        "        'soil_type': predicted_classes\n",
        "    })\n",
        "\n",
        "    # Save submission file\n",
        "    submission_df.to_csv('submission.csv', index=False)\n",
        "    print(\"Submission file saved as 'submission.csv'\")\n",
        "\n",
        "    return submission_df\n",
        "\n",
        "def plot_training_history(history):\n",
        "    \"\"\"\n",
        "    Plots for training history\n",
        "\n",
        "    Args:\n",
        "        history: Training history dictionary\n",
        "    \"\"\"\n",
        "    fig, (ax1, ax2) = plt.subplots(1, 2, figsize=(15, 5))\n",
        "\n",
        "    # Plot loss\n",
        "    ax1.plot(history['train_loss'], label='Training Loss')\n",
        "    ax1.plot(history['val_loss'], label='Validation Loss')\n",
        "    ax1.set_title('Model Loss')\n",
        "    ax1.set_xlabel('Epoch')\n",
        "    ax1.set_ylabel('Loss')\n",
        "    ax1.legend()\n",
        "    ax1.grid(True)\n",
        "\n",
        "    # Plot F1 score\n",
        "    ax2.plot(history['val_f1'], label='Minimum F1 Score', color='green')\n",
        "    ax2.set_title('Validation F1 Score')\n",
        "    ax2.set_xlabel('Epoch')\n",
        "    ax2.set_ylabel('F1 Score')\n",
        "    ax2.legend()\n",
        "    ax2.grid(True)\n",
        "\n",
        "    plt.tight_layout()\n",
        "    plt.show()\n",
        "\n",
        "def main():\n",
        "    \"\"\"\n",
        "    Main execution function\n",
        "    \"\"\"\n",
        "    print(\"Soil Classification Challenge - Solution\")\n",
        "    print(\"=\" * 50)\n",
        "    print(f\"Using device: {config.DEVICE}\")\n",
        "\n",
        "    # Load and prepare data\n",
        "    train_df, test_df, class_to_idx = load_and_prepare_data()\n",
        "\n",
        "    # Split training data into train and validation\n",
        "    train_data, val_data = train_test_split(\n",
        "        train_df,\n",
        "        test_size=0.2,\n",
        "        stratify=train_df['soil_type'],\n",
        "        random_state=42\n",
        "    )\n",
        "\n",
        "    print(f\"\\nTrain set size: {len(train_data)}\")\n",
        "    print(f\"Validation set size: {len(val_data)}\")\n",
        "\n",
        "    # Get transforms\n",
        "    train_transform, val_transform = get_transforms()\n",
        "\n",
        "    # Create datasets\n",
        "    train_dataset = SoilDataset(\n",
        "        train_data['image_path'].tolist(),\n",
        "        train_data['label_idx'].tolist(),\n",
        "        train_transform\n",
        "    )\n",
        "\n",
        "    val_dataset = SoilDataset(\n",
        "        val_data['image_path'].tolist(),\n",
        "        val_data['label_idx'].tolist(),\n",
        "        val_transform\n",
        "    )\n",
        "\n",
        "    test_dataset = SoilDataset(\n",
        "        test_df['image_path'].tolist(),\n",
        "        None,\n",
        "        val_transform\n",
        "    )\n",
        "\n",
        "    # Create weighted sampler for balanced training\n",
        "    sampler = create_weighted_sampler(train_data['label_idx'].tolist())\n",
        "\n",
        "    # Create data loaders\n",
        "    train_loader = DataLoader(\n",
        "        train_dataset,\n",
        "        batch_size=config.BATCH_SIZE,\n",
        "        sampler=sampler,\n",
        "        num_workers=4 if config.DEVICE.type == 'cuda' else 0\n",
        "    )\n",
        "\n",
        "    val_loader = DataLoader(\n",
        "        val_dataset,\n",
        "        batch_size=config.BATCH_SIZE,\n",
        "        shuffle=False,\n",
        "        num_workers=4 if config.DEVICE.type == 'cuda' else 0\n",
        "    )\n",
        "\n",
        "    test_loader = DataLoader(\n",
        "        test_dataset,\n",
        "        batch_size=config.BATCH_SIZE,\n",
        "        shuffle=False,\n",
        "        num_workers=4 if config.DEVICE.type == 'cuda' else 0\n",
        "    )\n",
        "\n",
        "    # Initialize model\n",
        "    model = SoilClassifier(num_classes=config.NUM_CLASSES)\n",
        "    model = model.to(config.DEVICE)\n",
        "\n",
        "    # Calculate class weights for loss function\n",
        "    class_weights = compute_class_weight(\n",
        "        'balanced',\n",
        "        classes=np.unique(train_data['label_idx']),\n",
        "        y=train_data['label_idx']\n",
        "    )\n",
        "    class_weights = torch.FloatTensor(class_weights).to(config.DEVICE)\n",
        "\n",
        "    # Define loss function and optimizer\n",
        "    criterion = nn.CrossEntropyLoss(weight=class_weights)\n",
        "    optimizer = optim.AdamW(model.parameters(),\n",
        "                           lr=config.LEARNING_RATE,\n",
        "                           weight_decay=config.WEIGHT_DECAY)\n",
        "    scheduler = optim.lr_scheduler.CosineAnnealingLR(optimizer, T_max=config.EPOCHS)\n",
        "\n",
        "    # Train model\n",
        "    model, history = train_model(\n",
        "        model, train_loader, val_loader,\n",
        "        criterion, optimizer, scheduler, config.EPOCHS\n",
        "    )\n",
        "\n",
        "    # Plot training history\n",
        "    plot_training_history(history)\n",
        "\n",
        "    # Evaluate model\n",
        "    predictions, targets, f1_scores = evaluate_model(model, val_loader, config.CLASS_NAMES)\n",
        "\n",
        "    # Generate test predictions\n",
        "    submission_df = generate_predictions(model, test_loader, test_df, config.CLASS_NAMES)\n",
        "\n",
        "    print(\"\\nSolution completed successfully!\")\n",
        "    print(\"Files generated:\")\n",
        "    print(\"- submission.csv: Final predictions for submission\")\n",
        "\n",
        "    return model, submission_df\n",
        "\n",
        "if __name__ == \"__main__\":\n",
        "    # Execute the main solution\n",
        "    model, submission = main()"
      ]
    },
    {
      "cell_type": "code",
      "source": [
        "import pandas as pd\n",
        "submission = pd.read_csv('submission.csv')\n",
        "print(submission.shape)  # Should output (341, 2)\n",
        "print(submission.head())  # Check first few rows\n",
        "print(submission['soil_type'].value_counts())  # Verify class distribution\n",
        "assert submission.shape[0] == 341, f\"Expected 341 rows, got {submission.shape[0]}\"\n",
        "assert list(submission.columns) == ['image_id', 'soil_type'], \"Columns should be ['image_id', 'soil_type']\"\n",
        "assert submission['soil_type'].isin(['Alluvial soil', 'Black Soil', 'Clay soil', 'Red soil']).all(), \"Invalid soil types\""
      ],
      "metadata": {
        "id": "ok-iLpq0r5XS",
        "colab": {
          "base_uri": "https://localhost:8080/"
        },
        "outputId": "7191b283-fdc3-4e8e-fe64-5f17d5df6beb"
      },
      "execution_count": null,
      "outputs": [
        {
          "output_type": "stream",
          "name": "stdout",
          "text": [
            "(341, 2)\n",
            "            image_id      soil_type\n",
            "0  img_cdf80d6f.jpeg  Alluvial soil\n",
            "1   img_c0142a80.jpg  Alluvial soil\n",
            "2   img_91168fb0.jpg  Alluvial soil\n",
            "3   img_9822190f.jpg  Alluvial soil\n",
            "4  img_e5fc436c.jpeg  Alluvial soil\n",
            "soil_type\n",
            "Black Soil       116\n",
            "Red soil         106\n",
            "Clay soil         66\n",
            "Alluvial soil     53\n",
            "Name: count, dtype: int64\n"
          ]
        }
      ]
    }
  ]
}